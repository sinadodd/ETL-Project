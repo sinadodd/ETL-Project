{
 "cells": [
  {
   "cell_type": "code",
   "execution_count": null,
   "metadata": {},
   "outputs": [],
   "source": [
    "import pandas as pd\n",
    "from sqlalchemy import create_engine"
   ]
  },
  {
   "cell_type": "markdown",
   "metadata": {
    "slideshow": {
     "slide_type": "-"
    }
   },
   "source": [
    "### Breastfed (Store CSV into DataFrame)"
   ]
  },
  {
   "cell_type": "code",
   "execution_count": null,
   "metadata": {
    "scrolled": true
   },
   "outputs": [],
   "source": [
    "csv_file = \"Resources/breastfeeding2015.csv\"\n",
    "bf_raw_data_df = pd.read_csv(csv_file)\n",
    "\n",
    "bf_df = bf_raw_data_df.iloc[1:, 0:2]\n",
    "bf_df.dropna(how='any', inplace=True)\n",
    "\n",
    "bf_df['TimeFrame'] = 2015\n",
    "\n",
    "bf_df['Ever Breastfed']=bf_df['Ever Breastfed'].map(\"{:,.1%}\".format)\n",
    "bf_df.reset_index(inplace=True, drop=True)\n",
    "bf_df"
   ]
  },
  {
   "cell_type": "markdown",
   "metadata": {},
   "source": [
    "### Parent Education (Store XLSX into DataFrame)\n",
    "Chose not to use this data after all because it splits education into immigrant familites and US-born families. I wanted this data separately."
   ]
  },
  {
   "cell_type": "code",
   "execution_count": null,
   "metadata": {
    "scrolled": true
   },
   "outputs": [],
   "source": [
    "# xlsx_file = \"Resources/Children whose parents all have less than a high school degree by family nativity.xlsx\"\n",
    "# parent_edu_raw_data_df = pd.read_excel(xlsx_file)\n",
    "\n",
    "# parent_edu_2015 = parent_edu_raw_data_df.loc[(parent_edu_raw_data_df[\"TimeFrame\"]=='2015')&(parent_edu_raw_data_df[\"LocationType\"]=='State')&(parent_edu_raw_data_df[\"DataFormat\"]=='Number')]\n",
    "# parent_edu_2015 = parent_edu_2015[['Location', 'Data']]\n",
    "# parent_edu_2015\n",
    "# parent_edu_raw_data_df\n",
    "\n",
    "# df = parent_edu_2015.groupby(['Location']).sum()\n",
    "# df"
   ]
  },
  {
   "cell_type": "markdown",
   "metadata": {},
   "source": [
    "### Families on Public Assistance (Store XLSX into DataFrame)"
   ]
  },
  {
   "cell_type": "code",
   "execution_count": null,
   "metadata": {
    "scrolled": true
   },
   "outputs": [],
   "source": [
    "public_assistance_xlsx_file = \"Resources/Children in families that receive public assistance.xlsx\"\n",
    "public_assistance_raw_data_df = pd.read_excel(public_assistance_xlsx_file)\n",
    "\n",
    "public_assistance_df = public_assistance_raw_data_df.loc[(public_assistance_raw_data_df[\"LocationType\"]=='State')&(public_assistance_raw_data_df[\"DataFormat\"]=='Percent')&(public_assistance_raw_data_df[\"TimeFrame\"]==2015)]\n",
    "public_assistance_df = public_assistance_df[['Location', 'TimeFrame', 'Data']]\n",
    "\n",
    "public_assistance_df['Data']=public_assistance_df['Data'].map(\"{:,.1%}\".format)\n",
    "public_assistance_df.reset_index(inplace=True, drop=True)\n",
    "public_assistance_df"
   ]
  },
  {
   "cell_type": "markdown",
   "metadata": {},
   "source": [
    "### Children in Immigrant Families (Store XLSX into DataFrame)"
   ]
  },
  {
   "cell_type": "code",
   "execution_count": null,
   "metadata": {
    "scrolled": true
   },
   "outputs": [],
   "source": [
    "immigrant_families_xlsx_file = \"Resources/Children in immigrant families.xlsx\"\n",
    "immigrant_families_raw_data_df = pd.read_excel(immigrant_families_xlsx_file)\n",
    "\n",
    "immigrant_families_df = immigrant_families_raw_data_df.loc[(immigrant_families_raw_data_df[\"LocationType\"]=='State')&(immigrant_families_raw_data_df[\"DataFormat\"]=='Percent')&(immigrant_families_raw_data_df[\"TimeFrame\"]=='2015')]\n",
    "immigrant_families_df = immigrant_families_df[['Location', 'TimeFrame', 'Data']]\n",
    "\n",
    "immigrant_families_df['Data']=pd.to_numeric(immigrant_families_df['Data'])\n",
    "\n",
    "immigrant_families_df['Data']=immigrant_families_df['Data'].map(\"{:,.1%}\".format)\n",
    "immigrant_families_df.reset_index(inplace=True, drop=True)\n",
    "immigrant_families_df"
   ]
  },
  {
   "cell_type": "markdown",
   "metadata": {},
   "source": [
    "### Head of household with less than high school education (Store XLSX into DataFrame)"
   ]
  },
  {
   "cell_type": "code",
   "execution_count": null,
   "metadata": {
    "scrolled": true
   },
   "outputs": [],
   "source": [
    "head_edu_xlsx_file = \"Resources/Children by household head’s educational attainment.xlsx\"\n",
    "head_edu_raw_df = pd.read_excel(head_edu_xlsx_file)\n",
    "\n",
    "head_edu_df = head_edu_raw_df.loc[(head_edu_raw_df[\"LocationType\"]=='State')&(head_edu_raw_df[\"DataFormat\"]=='Percent')&(head_edu_raw_df[\"TimeFrame\"]==2015)&(head_edu_raw_df[\"Education Level\"]==\"Not a high school graduate\")]\n",
    "head_edu_df = head_edu_df[['Location', 'TimeFrame', 'Data']]\n",
    "\n",
    "head_edu_df['Data']=head_edu_df['Data'].map(\"{:,.1%}\".format)\n",
    "head_edu_df.reset_index(inplace=True, drop=True)\n",
    "head_edu_df"
   ]
  },
  {
   "cell_type": "markdown",
   "metadata": {},
   "source": [
    "### Health Insurance (Store XLSX into DataFrame)"
   ]
  },
  {
   "cell_type": "code",
   "execution_count": null,
   "metadata": {
    "scrolled": true
   },
   "outputs": [],
   "source": [
    "health_insurance_xlsx_file = \"Resources/Children 17 and below without health insurance.xlsx\"\n",
    "health_insurance_raw_df = pd.read_excel(health_insurance_xlsx_file)\n",
    "\n",
    "health_insurance_df = health_insurance_raw_df.loc[(health_insurance_raw_df[\"LocationType\"]=='State')&(health_insurance_raw_df[\"DataFormat\"]=='Percent')&(health_insurance_raw_df[\"TimeFrame\"]==2015)]\n",
    "health_insurance_df = health_insurance_df[['Location', 'TimeFrame', 'Data']]\n",
    "\n",
    "health_insurance_df['Data']=pd.to_numeric(health_insurance_df['Data'])\n",
    "health_insurance_df['Data']=health_insurance_df['Data'].map(\"{:,.1%}\".format)\n",
    "health_insurance_df.reset_index(inplace=True, drop=True)\n",
    "health_insurance_df"
   ]
  },
  {
   "cell_type": "markdown",
   "metadata": {},
   "source": [
    "## Make SQLITE database"
   ]
  },
  {
   "cell_type": "code",
   "execution_count": null,
   "metadata": {},
   "outputs": [],
   "source": [
    "engine = create_engine('sqlite:///parental_impact_db.sqlite')"
   ]
  },
  {
   "cell_type": "code",
   "execution_count": null,
   "metadata": {},
   "outputs": [],
   "source": [
    "engine.table_names()"
   ]
  },
  {
   "cell_type": "code",
   "execution_count": null,
   "metadata": {},
   "outputs": [],
   "source": [
    "bf_df.to_sql(name='breastfed', con=engine, if_exists='append', index=True)"
   ]
  },
  {
   "cell_type": "code",
   "execution_count": null,
   "metadata": {},
   "outputs": [],
   "source": [
    "public_assistance_df.to_sql(name='public_assistance', con=engine, if_exists='append', index=True)"
   ]
  },
  {
   "cell_type": "code",
   "execution_count": null,
   "metadata": {},
   "outputs": [],
   "source": [
    "immigrant_families_df.to_sql(name='immigrant_families', con=engine, if_exists='append', index=True)"
   ]
  },
  {
   "cell_type": "code",
   "execution_count": null,
   "metadata": {},
   "outputs": [],
   "source": [
    "head_edu_df.to_sql(name='household_head_less_than_HS_education', con=engine, if_exists='append', index=True)"
   ]
  },
  {
   "cell_type": "code",
   "execution_count": null,
   "metadata": {},
   "outputs": [],
   "source": [
    "health_insurance_df.to_sql(name='minors_without_health_insurance', con=engine, if_exists='append', index=True)"
   ]
  },
  {
   "cell_type": "code",
   "execution_count": null,
   "metadata": {},
   "outputs": [],
   "source": [
    "engine.table_names()"
   ]
  },
  {
   "cell_type": "code",
   "execution_count": null,
   "metadata": {},
   "outputs": [],
   "source": []
  },
  {
   "cell_type": "code",
   "execution_count": null,
   "metadata": {},
   "outputs": [],
   "source": []
  },
  {
   "cell_type": "code",
   "execution_count": null,
   "metadata": {},
   "outputs": [],
   "source": []
  }
 ],
 "metadata": {
  "kernelspec": {
   "display_name": "Python 3",
   "language": "python",
   "name": "python3"
  },
  "language_info": {
   "codemirror_mode": {
    "name": "ipython",
    "version": 3
   },
   "file_extension": ".py",
   "mimetype": "text/x-python",
   "name": "python",
   "nbconvert_exporter": "python",
   "pygments_lexer": "ipython3",
   "version": "3.7.1"
  },
  "nteract": {
   "version": "0.12.3"
  }
 },
 "nbformat": 4,
 "nbformat_minor": 2
}
