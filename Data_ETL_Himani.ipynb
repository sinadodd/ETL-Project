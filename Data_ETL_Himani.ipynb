{
 "cells": [
  {
   "cell_type": "code",
   "execution_count": null,
   "metadata": {},
   "outputs": [],
   "source": [
    "import pandas as pd\n",
    "from sqlalchemy import *"
   ]
  },
  {
   "cell_type": "markdown",
   "metadata": {
    "slideshow": {
     "slide_type": "-"
    }
   },
   "source": [
    "### Store CSV into DataFrame"
   ]
  },
  {
   "cell_type": "code",
   "execution_count": null,
   "metadata": {},
   "outputs": [],
   "source": [
    "#Fetching state and year wise data for childeren enrolled in or completed college education\n",
    "csv_file = \"Resources/college_enrolled_completed.csv\"\n",
    "raw_college_data_df = pd.read_csv(csv_file)\n",
    "raw_college_data_df.head()"
   ]
  },
  {
   "cell_type": "code",
   "execution_count": null,
   "metadata": {},
   "outputs": [],
   "source": [
    "raw_college_data_df.columns"
   ]
  },
  {
   "cell_type": "code",
   "execution_count": null,
   "metadata": {},
   "outputs": [],
   "source": [
    "raw_college_data_df.dtypes"
   ]
  },
  {
   "cell_type": "markdown",
   "metadata": {},
   "source": [
    "### Create new data with select columns"
   ]
  },
  {
   "cell_type": "code",
   "execution_count": null,
   "metadata": {},
   "outputs": [],
   "source": [
    "#Filtring the state data\n",
    "college_data_df = raw_college_data_df.loc[raw_college_data_df['LocationType'] == 'State']\n",
    "college_data_df.head()"
   ]
  },
  {
   "cell_type": "code",
   "execution_count": null,
   "metadata": {},
   "outputs": [],
   "source": [
    "#Dropping the rows with number data and only keeping percent data\n",
    "college_data_df = college_data_df[college_data_df.DataFormat != 'Number']\n",
    "college_data_df"
   ]
  },
  {
   "cell_type": "markdown",
   "metadata": {},
   "source": [
    "### Clean DataFrame"
   ]
  },
  {
   "cell_type": "code",
   "execution_count": null,
   "metadata": {},
   "outputs": [],
   "source": [
    "#Sorting the dataframe by Timeframe\n",
    "college_data_df = college_data_df.sort_values(by = 'TimeFrame', ascending = False)\n",
    "\n",
    "#Keeping the data values only for the latest year\n",
    "college_data_df = college_data_df[college_data_df.TimeFrame == 2016]\n",
    "college_data_df = college_data_df.reset_index()\n",
    "#Keeping only the columns that are relevant for analysis\n",
    "college_data_df = college_data_df[['Location', 'TimeFrame', 'Data']]\n",
    "college_data_df['Data'] = college_data_df['Data'].map(\"{:,.1%}\".format)\n",
    "college_data_df"
   ]
  },
  {
   "cell_type": "code",
   "execution_count": null,
   "metadata": {},
   "outputs": [],
   "source": [
    "#Fetching state and year wise data for health indicators for children with focus only on the Obesity conditions \n",
    "\n",
    "csv_file = \"Resources/obesity.csv\"\n",
    "raw_obesity_data_df = pd.read_csv(csv_file)\n",
    "raw_obesity_data_df.head()"
   ]
  },
  {
   "cell_type": "code",
   "execution_count": null,
   "metadata": {},
   "outputs": [],
   "source": [
    "#Filtring the state data\n",
    "obesity_data_df = raw_obesity_data_df.loc[raw_obesity_data_df['LocationType'] == 'State']\n",
    "obesity_data_df.head()"
   ]
  },
  {
   "cell_type": "code",
   "execution_count": null,
   "metadata": {},
   "outputs": [],
   "source": [
    "#Sorting the dataframe by Timeframe\n",
    "obesity_data_df = obesity_data_df.sort_values(by = 'TimeFrame', ascending = False)\n",
    "\n",
    "obesity_data_df.head()"
   ]
  },
  {
   "cell_type": "code",
   "execution_count": null,
   "metadata": {},
   "outputs": [],
   "source": [
    "#Keeping only the columns that are relevant for analysis\n",
    "obesity_data_df = obesity_data_df[['Location', 'TimeFrame', 'Data']]\n",
    "obesity_data_df"
   ]
  },
  {
   "cell_type": "code",
   "execution_count": null,
   "metadata": {},
   "outputs": [],
   "source": [
    "obesity_df = obesity_data_df.groupby([\"Location\",\"TimeFrame\"]).sum().reset_index()\n",
    "obesity_df['Data'] = obesity_df['Data'].map(\"{:,.1%}\".format)\n",
    "obesity_df['TimeFrame'] = obesity_df['TimeFrame'].str.split('-').str[1]\n",
    "obesity_df"
   ]
  },
  {
   "cell_type": "code",
   "execution_count": null,
   "metadata": {},
   "outputs": [],
   "source": [
    "xls = 'Resources/NSDUHsaeTotals2017.xlsx'\n",
    "\n",
    "#Fetching the data from Sheet - Table 7 which provides Cocaine Use data\n",
    "drug_df = pd.read_excel(xls, 'Table 7')\n",
    "drug_df = drug_df.iloc[4:]\n",
    "\n",
    "#grab the first row for the header\n",
    "new_header = drug_df.iloc[0]\n",
    "#take the data less the header row\n",
    "drug_df = drug_df[1:] \n",
    "drug_df.columns = new_header\n",
    "\n",
    "#Removing the total US row\n",
    "drug_df = drug_df.iloc[5:] \n",
    "drug_df = drug_df.reset_index(drop=True)\n",
    "drug_df"
   ]
  },
  {
   "cell_type": "code",
   "execution_count": null,
   "metadata": {},
   "outputs": [],
   "source": [
    "#Keeping only the columns that are relevant for analysis\n",
    "drug_df = drug_df[['State', '12-17\\nEstimate', '18-25\\nEstimate']]\n",
    "drug_df"
   ]
  },
  {
   "cell_type": "code",
   "execution_count": null,
   "metadata": {},
   "outputs": [],
   "source": [
    "#Adding the 2 columns to get the total number of children using cocaine across all US states in year 2017\n",
    "drug_df['Total Drug Use (Age Group: 12-25)']= drug_df.iloc[:, -3:].sum(axis=1)\n",
    "\n",
    "drug_df"
   ]
  },
  {
   "cell_type": "code",
   "execution_count": null,
   "metadata": {},
   "outputs": [],
   "source": [
    "#Keeping only the columns that are relevant for analysis\n",
    "drug_df = drug_df[['State', 'Total Drug Use (Age Group: 12-25)']]\n",
    "drug_df"
   ]
  },
  {
   "cell_type": "code",
   "execution_count": null,
   "metadata": {},
   "outputs": [],
   "source": [
    "year = 2017\n",
    "drug_df['TimeFrame'] = year\n",
    "drug_df"
   ]
  },
  {
   "cell_type": "code",
   "execution_count": null,
   "metadata": {},
   "outputs": [],
   "source": [
    "engine = create_engine('sqlite:///parental_impact_db.sqlite')"
   ]
  },
  {
   "cell_type": "code",
   "execution_count": null,
   "metadata": {},
   "outputs": [],
   "source": [
    "\n",
    "engine.table_names()"
   ]
  },
  {
   "cell_type": "code",
   "execution_count": null,
   "metadata": {},
   "outputs": [],
   "source": [
    "college_data_df.to_sql('education_enrollment_rate', con=engine, if_exists='append', index = True)"
   ]
  },
  {
   "cell_type": "code",
   "execution_count": null,
   "metadata": {},
   "outputs": [],
   "source": [
    "obesity_df.to_sql('obesity_rate', con=engine, if_exists='append', index = True)"
   ]
  },
  {
   "cell_type": "code",
   "execution_count": null,
   "metadata": {},
   "outputs": [],
   "source": [
    "drug_df.to_sql('drug_consumption_rate', con=engine, if_exists='append', index = True)"
   ]
  },
  {
   "cell_type": "code",
   "execution_count": null,
   "metadata": {},
   "outputs": [],
   "source": [
    "engine.table_names()"
   ]
  }
 ],
 "metadata": {
  "kernelspec": {
   "display_name": "Python 3",
   "language": "python",
   "name": "python3"
  },
  "language_info": {
   "codemirror_mode": {
    "name": "ipython",
    "version": 3
   },
   "file_extension": ".py",
   "mimetype": "text/x-python",
   "name": "python",
   "nbconvert_exporter": "python",
   "pygments_lexer": "ipython3",
   "version": "3.7.1"
  },
  "nteract": {
   "version": "0.12.3"
  }
 },
 "nbformat": 4,
 "nbformat_minor": 2
}
